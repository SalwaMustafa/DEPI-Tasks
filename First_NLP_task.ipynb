{
  "cells": [
    {
      "cell_type": "markdown",
      "metadata": {
        "id": "view-in-github",
        "colab_type": "text"
      },
      "source": [
        "<a href=\"https://colab.research.google.com/github/SalwaMustafa/DEPI-Tasks/blob/main/First_NLP_task.ipynb\" target=\"_parent\"><img src=\"https://colab.research.google.com/assets/colab-badge.svg\" alt=\"Open In Colab\"/></a>"
      ]
    },
    {
      "cell_type": "markdown",
      "metadata": {
        "id": "dpKLxZ8mNTGE"
      },
      "source": [
        "# NLP Lab Task — Preprocessing to Deployment with Twitter Sentiment Dataset\n",
        "\n",
        "## Overview\n",
        "\n",
        "This lab takes students through the **entire NLP pipeline** using a **Twitter Sentiment Analysis dataset** (tweets labeled as positive, negative, or neutral). Students will preprocess the data, represent it using multiple methods, train classical machine learning models, evaluate their results, and finally build a small API for deployment.\n",
        "\n",
        "---\n",
        "\n",
        "## Learning Objectives\n",
        "\n",
        "* Apply text preprocessing (regex, case folding, tokenization, stopword removal, punctuation handling).\n",
        "* Compare stemming and lemmatization, and use POS tagging to analyze counts of nouns, verbs, and adjectives.\n",
        "* Build text representations using **Bag-of-Words**, **TF–IDF**, and **Word2Vec**.\n",
        "* Train classical ML models inside an sklearn **Pipeline**.\n",
        "* Evaluate models with standard metrics and perform basic error analysis.\n",
        "* Save a trained pipeline and build a simple API to serve predictions.\n",
        "\n",
        "---\n",
        "\n",
        "## Dataset\n",
        "\n",
        "We will use the **Sentiment140 Twitter dataset** (1.6M tweets, labeled positive/negative). For simplicity, you can work with a smaller balanced subset (e.g., 10k–20k tweets). This dataset is widely used for sentiment analysis and contains real, noisy text with mentions, hashtags, and emoticons.\n",
        "\n",
        "Dataset link: [Sentiment140](http://help.sentiment140.com/for-students/)\n",
        "\n",
        "---\n",
        "\n",
        "## Step-by-Step Tasks\n",
        "\n",
        "### 1) Exploratory Data Analysis (EDA)\n",
        "\n",
        "* Load dataset, show class distribution, tweet length histogram, and a few sample tweets.\n",
        "* Deliverable: 3 plots (class balance, length histogram, top frequent tokens) + 5 example tweets.\n",
        "\n",
        "### 2) Regex Cleaning\n",
        "\n",
        "* Remove URLs, mentions (@user), hashtags, emojis (or replace with tokens), and extra whitespace.\n",
        "* Show a before-and-after example for at least 3 tweets.\n",
        "\n",
        "### 3) Case Folding & Tokenization\n",
        "\n",
        "* Convert all text to lowercase.\n",
        "* Tokenize tweets using NLTK or spaCy.\n",
        "* Compare vocabulary size before and after cleaning.\n",
        "\n",
        "### 4) Stopwords, Punctuation, and Numbers\n",
        "\n",
        "* Remove stopwords (with NLTK list, customizable).\n",
        "* Decide how to handle punctuation and numbers (remove or replace with `<NUM>`).\n",
        "* Deliverable: short explanation of your choice.\n",
        "\n",
        "### 5) Stemming vs Lemmatization\n",
        "\n",
        "* Use PorterStemmer (stemming) and spaCy lemmatizer.\n",
        "* Show 20 sample words with their stem vs lemma.\n",
        "* Train quick models with both and compare results.\n",
        "\n",
        "### 6) POS Tagging (extra features)\n",
        "\n",
        "* Use spaCy to count nouns, verbs, and adjectives per tweet.\n",
        "* Add these counts as additional numeric features.\n",
        "* Compare model with vs without POS features.\n",
        "\n",
        "### 7) Text Representation\n",
        "\n",
        "* Implement three representations:\n",
        "  1. **Bag-of-Words** (CountVectorizer)\n",
        "  2. **TF–IDF** (TfidfVectorizer)\n",
        "  3. **Word2Vec** (pretrained embeddings, averaged per tweet)\n",
        "* Compare vocabulary sizes and representation dimensions.\n",
        "\n",
        "### 8) Modeling with Pipelines\n",
        "\n",
        "* Use sklearn Pipelines to connect preprocessing + vectorizer + classifier.\n",
        "* Models to try:\n",
        "  * Multinomial Naive Bayes (for BoW/TF–IDF)\n",
        "  * Logistic Regression\n",
        "  * Linear SVM\n",
        "* Deliverable: comparison table (accuracy, F1-score).\n",
        "\n",
        "### 9) Evaluation & Error Analysis\n",
        "\n",
        "* Use held-out test set.\n",
        "* Metrics: accuracy, precision, recall, F1, confusion matrix.\n",
        "* Show 10 misclassified tweets and discuss why they may be difficult.\n",
        "\n",
        "### 10) Save Model Pipeline\n",
        "\n",
        "* Save the best pipeline using `joblib` or `pickle`.\n",
        "* Deliverable: `sentiment_model.pkl` file.\n",
        "\n",
        "### 11) Build a Simple API (Deployment Step)\n",
        "\n",
        "* Create a small Flask API with one endpoint `/predict` that accepts a tweet as input and returns sentiment prediction.\n",
        "* The API should load the saved pipeline and make predictions.\n",
        "* Deliverable: `app.py` with Flask code + test with a sample curl or Postman request.\n",
        "\n",
        "---\n",
        "\n",
        "## Deliverables\n",
        "\n",
        "1. Jupyter Notebook with step-by-step tasks, results, and code.\n",
        "2. Comparison tables for preprocessing choices and representations.\n",
        "3. Saved pipeline file (`.pkl`).\n",
        "4. Flask API script (`app.py`).\n",
        "5. Short report in markdown cell summarizing preprocessing, modeling choices, and results.\n",
        "\n",
        "---\n",
        "\n",
        "This streamlined lab ensures students get hands-on experience with **real-world text preprocessing, classical modeling, and deployment of NLP systems**.\n"
      ]
    },
    {
      "cell_type": "markdown",
      "metadata": {
        "id": "g5JhT6qqMzOr"
      },
      "source": [
        "### 1. Load the Dataset\n",
        "\n",
        "We will use the **Sentiment140 Twitter Sentiment dataset**.  \n",
        "It contains 1.6 million tweets labeled as positive (4) or negative (0).  \n",
        "For this lab, we will load a smaller subset (e.g., 20,000 rows) for faster experimentation.\n",
        "\n",
        "```python\n",
        "import pandas as pd\n",
        "\n",
        "# Column order for Sentiment140 dataset:\n",
        "# 0 - target (0 = negative, 4 = positive)\n",
        "# 1 - ids\n",
        "# 2 - date\n",
        "# 3 - flag\n",
        "# 4 - user\n",
        "# 5 - text (tweet)\n",
        "\n",
        "# Update the file path if needed\n",
        "file_path = \"sentiment140.csv\"\n",
        "\n",
        "# Load with proper encoding\n",
        "df = pd.read_csv(file_path, encoding='latin-1', header=None)\n",
        "\n",
        "# Assign column names\n",
        "df.columns = [\"target\", \"id\", \"date\", \"flag\", \"user\", \"text\"]\n",
        "\n",
        "# Map target labels: 0 → negative, 4 → positive\n",
        "df[\"target\"] = df[\"target\"].map({0: \"negative\", 4: \"positive\"})\n",
        "\n",
        "# Take a smaller sample for experiments (optional)\n",
        "df = df.sample(20000, random_state=42).reset_index(drop=True)\n",
        "\n",
        "# Quick check\n",
        "print(df.shape)\n",
        "df.head()\n"
      ]
    },
    {
      "cell_type": "code",
      "execution_count": 33,
      "metadata": {
        "colab": {
          "base_uri": "https://localhost:8080/"
        },
        "id": "FckTkNZyMqJw",
        "outputId": "23c18fe5-57fc-4dc3-c919-eda8f06d2f4a"
      },
      "outputs": [
        {
          "output_type": "stream",
          "name": "stdout",
          "text": [
            "(20000, 6)\n",
            "Training set: (1600000, 6)\n",
            "     target          id                          date      flag  \\\n",
            "0  negative  1467810369  Mon Apr 06 22:19:45 PDT 2009  NO_QUERY   \n",
            "1  negative  1467810672  Mon Apr 06 22:19:49 PDT 2009  NO_QUERY   \n",
            "2  negative  1467810917  Mon Apr 06 22:19:53 PDT 2009  NO_QUERY   \n",
            "3  negative  1467811184  Mon Apr 06 22:19:57 PDT 2009  NO_QUERY   \n",
            "4  negative  1467811193  Mon Apr 06 22:19:57 PDT 2009  NO_QUERY   \n",
            "\n",
            "              user                                               text  \n",
            "0  _TheSpecialOne_  @switchfoot http://twitpic.com/2y1zl - Awww, t...  \n",
            "1    scotthamilton  is upset that he can't update his Facebook by ...  \n",
            "2         mattycus  @Kenichan I dived many times for the ball. Man...  \n",
            "3          ElleCTF    my whole body feels itchy and like its on fire   \n",
            "4           Karoli  @nationwideclass no, it's not behaving at all....  \n",
            "Test set: (498, 6)\n",
            "     target  id                          date     flag      user  \\\n",
            "0  positive   3  Mon May 11 03:17:40 UTC 2009  kindle2    tpryan   \n",
            "1  positive   4  Mon May 11 03:18:03 UTC 2009  kindle2    vcu451   \n",
            "2  positive   5  Mon May 11 03:18:54 UTC 2009  kindle2    chadfu   \n",
            "3  positive   6  Mon May 11 03:19:04 UTC 2009  kindle2     SIX15   \n",
            "4  positive   7  Mon May 11 03:21:41 UTC 2009  kindle2  yamarama   \n",
            "\n",
            "                                                text  \n",
            "0  @stellargirl I loooooooovvvvvveee my Kindle2. ...  \n",
            "1  Reading my kindle2...  Love it... Lee childs i...  \n",
            "2  Ok, first assesment of the #kindle2 ...it fuck...  \n",
            "3  @kenburbary You'll love your Kindle2. I've had...  \n",
            "4  @mikefish  Fair enough. But i have the Kindle2...  \n"
          ]
        }
      ],
      "source": [
        "import pandas as pd\n",
        "import zipfile\n",
        "import os\n",
        "import requests\n",
        "\n",
        "# Step 1: Download the dataset (if not already downloaded)\n",
        "url = \"https://cs.stanford.edu/people/alecmgo/trainingandtestdata.zip\"\n",
        "zip_path = \"trainingandtestdata.zip\"\n",
        "\n",
        "if not os.path.exists(zip_path):\n",
        "    print(\"Downloading dataset...\")\n",
        "    r = requests.get(url)\n",
        "    with open(zip_path, \"wb\") as f:\n",
        "        f.write(r.content)\n",
        "\n",
        "# Step 2: Unzip the file\n",
        "with zipfile.ZipFile(zip_path, \"r\") as zip_ref:\n",
        "    zip_ref.extractall(\".\")\n",
        "\n",
        "# Step 3: Load training data\n",
        "file_path = \"training.1600000.processed.noemoticon.csv\"\n",
        "\n",
        "df = pd.read_csv(file_path, encoding=\"latin-1\", header=None)\n",
        "df.columns = [\"target\", \"id\", \"date\", \"flag\", \"user\", \"text\"]\n",
        "\n",
        "# Map sentiment labels: 0 = negative, 4 = positive\n",
        "df[\"target\"] = df[\"target\"].map({0: \"negative\", 4: \"positive\"})\n",
        "\n",
        "# Optional: sample a smaller dataset for quicker experiments\n",
        "df = df.sample(20000, random_state=42).reset_index(drop=True)\n",
        "\n",
        "# Preview the data\n",
        "print(df.shape)\n",
        "df.head()\n",
        "\n",
        "\n",
        "# Load training set\n",
        "train_path = \"training.1600000.processed.noemoticon.csv\"\n",
        "train_df = pd.read_csv(train_path, encoding=\"latin-1\", header=None)\n",
        "train_df.columns = [\"target\", \"id\", \"date\", \"flag\", \"user\", \"text\"]\n",
        "train_df[\"target\"] = train_df[\"target\"].map({0: \"negative\", 4: \"positive\"})\n",
        "\n",
        "print(\"Training set:\", train_df.shape)\n",
        "print(train_df.head())\n",
        "\n",
        "# Load manual test set\n",
        "test_path = \"testdata.manual.2009.06.14.csv\"\n",
        "test_df = pd.read_csv(test_path, encoding=\"latin-1\", header=None)\n",
        "test_df.columns = [\"target\", \"id\", \"date\", \"flag\", \"user\", \"text\"]\n",
        "\n",
        "# This test set has labels 0 (negative), 2 (neutral), 4 (positive)\n",
        "test_df[\"target\"] = test_df[\"target\"].map({0: \"negative\", 2: \"neutral\", 4: \"positive\"})\n",
        "\n",
        "print(\"Test set:\", test_df.shape)\n",
        "print(test_df.head())\n"
      ]
    },
    {
      "cell_type": "code",
      "execution_count": 34,
      "metadata": {
        "colab": {
          "base_uri": "https://localhost:8080/",
          "height": 206
        },
        "id": "jZgsBciEMrFj",
        "outputId": "a45c93e4-0df3-4d5a-db9d-97f4160fb537"
      },
      "outputs": [
        {
          "output_type": "execute_result",
          "data": {
            "text/plain": [
              "     target          id                          date      flag  \\\n",
              "0  negative  2200003196  Tue Jun 16 18:18:12 PDT 2009  NO_QUERY   \n",
              "1  negative  1467998485  Mon Apr 06 23:11:14 PDT 2009  NO_QUERY   \n",
              "2  negative  2300048954  Tue Jun 23 13:40:11 PDT 2009  NO_QUERY   \n",
              "3  negative  1993474027  Mon Jun 01 10:26:07 PDT 2009  NO_QUERY   \n",
              "4  negative  2256550904  Sat Jun 20 12:56:51 PDT 2009  NO_QUERY   \n",
              "\n",
              "              user                                               text  \n",
              "0  LaLaLindsey0609             @chrishasboobs AHHH I HOPE YOUR OK!!!   \n",
              "1      sexygrneyes  @misstoriblack cool , i have no tweet apps  fo...  \n",
              "2       sammydearr  @TiannaChaos i know  just family drama. its la...  \n",
              "3      Lamb_Leanne  School email won't open  and I have geography ...  \n",
              "4      yogicerdito                             upper airways problem   "
            ],
            "text/html": [
              "\n",
              "  <div id=\"df-7e1f8bab-914d-4ea4-af02-9ae093342dd3\" class=\"colab-df-container\">\n",
              "    <div>\n",
              "<style scoped>\n",
              "    .dataframe tbody tr th:only-of-type {\n",
              "        vertical-align: middle;\n",
              "    }\n",
              "\n",
              "    .dataframe tbody tr th {\n",
              "        vertical-align: top;\n",
              "    }\n",
              "\n",
              "    .dataframe thead th {\n",
              "        text-align: right;\n",
              "    }\n",
              "</style>\n",
              "<table border=\"1\" class=\"dataframe\">\n",
              "  <thead>\n",
              "    <tr style=\"text-align: right;\">\n",
              "      <th></th>\n",
              "      <th>target</th>\n",
              "      <th>id</th>\n",
              "      <th>date</th>\n",
              "      <th>flag</th>\n",
              "      <th>user</th>\n",
              "      <th>text</th>\n",
              "    </tr>\n",
              "  </thead>\n",
              "  <tbody>\n",
              "    <tr>\n",
              "      <th>0</th>\n",
              "      <td>negative</td>\n",
              "      <td>2200003196</td>\n",
              "      <td>Tue Jun 16 18:18:12 PDT 2009</td>\n",
              "      <td>NO_QUERY</td>\n",
              "      <td>LaLaLindsey0609</td>\n",
              "      <td>@chrishasboobs AHHH I HOPE YOUR OK!!!</td>\n",
              "    </tr>\n",
              "    <tr>\n",
              "      <th>1</th>\n",
              "      <td>negative</td>\n",
              "      <td>1467998485</td>\n",
              "      <td>Mon Apr 06 23:11:14 PDT 2009</td>\n",
              "      <td>NO_QUERY</td>\n",
              "      <td>sexygrneyes</td>\n",
              "      <td>@misstoriblack cool , i have no tweet apps  fo...</td>\n",
              "    </tr>\n",
              "    <tr>\n",
              "      <th>2</th>\n",
              "      <td>negative</td>\n",
              "      <td>2300048954</td>\n",
              "      <td>Tue Jun 23 13:40:11 PDT 2009</td>\n",
              "      <td>NO_QUERY</td>\n",
              "      <td>sammydearr</td>\n",
              "      <td>@TiannaChaos i know  just family drama. its la...</td>\n",
              "    </tr>\n",
              "    <tr>\n",
              "      <th>3</th>\n",
              "      <td>negative</td>\n",
              "      <td>1993474027</td>\n",
              "      <td>Mon Jun 01 10:26:07 PDT 2009</td>\n",
              "      <td>NO_QUERY</td>\n",
              "      <td>Lamb_Leanne</td>\n",
              "      <td>School email won't open  and I have geography ...</td>\n",
              "    </tr>\n",
              "    <tr>\n",
              "      <th>4</th>\n",
              "      <td>negative</td>\n",
              "      <td>2256550904</td>\n",
              "      <td>Sat Jun 20 12:56:51 PDT 2009</td>\n",
              "      <td>NO_QUERY</td>\n",
              "      <td>yogicerdito</td>\n",
              "      <td>upper airways problem</td>\n",
              "    </tr>\n",
              "  </tbody>\n",
              "</table>\n",
              "</div>\n",
              "    <div class=\"colab-df-buttons\">\n",
              "\n",
              "  <div class=\"colab-df-container\">\n",
              "    <button class=\"colab-df-convert\" onclick=\"convertToInteractive('df-7e1f8bab-914d-4ea4-af02-9ae093342dd3')\"\n",
              "            title=\"Convert this dataframe to an interactive table.\"\n",
              "            style=\"display:none;\">\n",
              "\n",
              "  <svg xmlns=\"http://www.w3.org/2000/svg\" height=\"24px\" viewBox=\"0 -960 960 960\">\n",
              "    <path d=\"M120-120v-720h720v720H120Zm60-500h600v-160H180v160Zm220 220h160v-160H400v160Zm0 220h160v-160H400v160ZM180-400h160v-160H180v160Zm440 0h160v-160H620v160ZM180-180h160v-160H180v160Zm440 0h160v-160H620v160Z\"/>\n",
              "  </svg>\n",
              "    </button>\n",
              "\n",
              "  <style>\n",
              "    .colab-df-container {\n",
              "      display:flex;\n",
              "      gap: 12px;\n",
              "    }\n",
              "\n",
              "    .colab-df-convert {\n",
              "      background-color: #E8F0FE;\n",
              "      border: none;\n",
              "      border-radius: 50%;\n",
              "      cursor: pointer;\n",
              "      display: none;\n",
              "      fill: #1967D2;\n",
              "      height: 32px;\n",
              "      padding: 0 0 0 0;\n",
              "      width: 32px;\n",
              "    }\n",
              "\n",
              "    .colab-df-convert:hover {\n",
              "      background-color: #E2EBFA;\n",
              "      box-shadow: 0px 1px 2px rgba(60, 64, 67, 0.3), 0px 1px 3px 1px rgba(60, 64, 67, 0.15);\n",
              "      fill: #174EA6;\n",
              "    }\n",
              "\n",
              "    .colab-df-buttons div {\n",
              "      margin-bottom: 4px;\n",
              "    }\n",
              "\n",
              "    [theme=dark] .colab-df-convert {\n",
              "      background-color: #3B4455;\n",
              "      fill: #D2E3FC;\n",
              "    }\n",
              "\n",
              "    [theme=dark] .colab-df-convert:hover {\n",
              "      background-color: #434B5C;\n",
              "      box-shadow: 0px 1px 3px 1px rgba(0, 0, 0, 0.15);\n",
              "      filter: drop-shadow(0px 1px 2px rgba(0, 0, 0, 0.3));\n",
              "      fill: #FFFFFF;\n",
              "    }\n",
              "  </style>\n",
              "\n",
              "    <script>\n",
              "      const buttonEl =\n",
              "        document.querySelector('#df-7e1f8bab-914d-4ea4-af02-9ae093342dd3 button.colab-df-convert');\n",
              "      buttonEl.style.display =\n",
              "        google.colab.kernel.accessAllowed ? 'block' : 'none';\n",
              "\n",
              "      async function convertToInteractive(key) {\n",
              "        const element = document.querySelector('#df-7e1f8bab-914d-4ea4-af02-9ae093342dd3');\n",
              "        const dataTable =\n",
              "          await google.colab.kernel.invokeFunction('convertToInteractive',\n",
              "                                                    [key], {});\n",
              "        if (!dataTable) return;\n",
              "\n",
              "        const docLinkHtml = 'Like what you see? Visit the ' +\n",
              "          '<a target=\"_blank\" href=https://colab.research.google.com/notebooks/data_table.ipynb>data table notebook</a>'\n",
              "          + ' to learn more about interactive tables.';\n",
              "        element.innerHTML = '';\n",
              "        dataTable['output_type'] = 'display_data';\n",
              "        await google.colab.output.renderOutput(dataTable, element);\n",
              "        const docLink = document.createElement('div');\n",
              "        docLink.innerHTML = docLinkHtml;\n",
              "        element.appendChild(docLink);\n",
              "      }\n",
              "    </script>\n",
              "  </div>\n",
              "\n",
              "\n",
              "    <div id=\"df-af5fb21b-ee4b-40c1-921d-aee0ed088b24\">\n",
              "      <button class=\"colab-df-quickchart\" onclick=\"quickchart('df-af5fb21b-ee4b-40c1-921d-aee0ed088b24')\"\n",
              "                title=\"Suggest charts\"\n",
              "                style=\"display:none;\">\n",
              "\n",
              "<svg xmlns=\"http://www.w3.org/2000/svg\" height=\"24px\"viewBox=\"0 0 24 24\"\n",
              "     width=\"24px\">\n",
              "    <g>\n",
              "        <path d=\"M19 3H5c-1.1 0-2 .9-2 2v14c0 1.1.9 2 2 2h14c1.1 0 2-.9 2-2V5c0-1.1-.9-2-2-2zM9 17H7v-7h2v7zm4 0h-2V7h2v10zm4 0h-2v-4h2v4z\"/>\n",
              "    </g>\n",
              "</svg>\n",
              "      </button>\n",
              "\n",
              "<style>\n",
              "  .colab-df-quickchart {\n",
              "      --bg-color: #E8F0FE;\n",
              "      --fill-color: #1967D2;\n",
              "      --hover-bg-color: #E2EBFA;\n",
              "      --hover-fill-color: #174EA6;\n",
              "      --disabled-fill-color: #AAA;\n",
              "      --disabled-bg-color: #DDD;\n",
              "  }\n",
              "\n",
              "  [theme=dark] .colab-df-quickchart {\n",
              "      --bg-color: #3B4455;\n",
              "      --fill-color: #D2E3FC;\n",
              "      --hover-bg-color: #434B5C;\n",
              "      --hover-fill-color: #FFFFFF;\n",
              "      --disabled-bg-color: #3B4455;\n",
              "      --disabled-fill-color: #666;\n",
              "  }\n",
              "\n",
              "  .colab-df-quickchart {\n",
              "    background-color: var(--bg-color);\n",
              "    border: none;\n",
              "    border-radius: 50%;\n",
              "    cursor: pointer;\n",
              "    display: none;\n",
              "    fill: var(--fill-color);\n",
              "    height: 32px;\n",
              "    padding: 0;\n",
              "    width: 32px;\n",
              "  }\n",
              "\n",
              "  .colab-df-quickchart:hover {\n",
              "    background-color: var(--hover-bg-color);\n",
              "    box-shadow: 0 1px 2px rgba(60, 64, 67, 0.3), 0 1px 3px 1px rgba(60, 64, 67, 0.15);\n",
              "    fill: var(--button-hover-fill-color);\n",
              "  }\n",
              "\n",
              "  .colab-df-quickchart-complete:disabled,\n",
              "  .colab-df-quickchart-complete:disabled:hover {\n",
              "    background-color: var(--disabled-bg-color);\n",
              "    fill: var(--disabled-fill-color);\n",
              "    box-shadow: none;\n",
              "  }\n",
              "\n",
              "  .colab-df-spinner {\n",
              "    border: 2px solid var(--fill-color);\n",
              "    border-color: transparent;\n",
              "    border-bottom-color: var(--fill-color);\n",
              "    animation:\n",
              "      spin 1s steps(1) infinite;\n",
              "  }\n",
              "\n",
              "  @keyframes spin {\n",
              "    0% {\n",
              "      border-color: transparent;\n",
              "      border-bottom-color: var(--fill-color);\n",
              "      border-left-color: var(--fill-color);\n",
              "    }\n",
              "    20% {\n",
              "      border-color: transparent;\n",
              "      border-left-color: var(--fill-color);\n",
              "      border-top-color: var(--fill-color);\n",
              "    }\n",
              "    30% {\n",
              "      border-color: transparent;\n",
              "      border-left-color: var(--fill-color);\n",
              "      border-top-color: var(--fill-color);\n",
              "      border-right-color: var(--fill-color);\n",
              "    }\n",
              "    40% {\n",
              "      border-color: transparent;\n",
              "      border-right-color: var(--fill-color);\n",
              "      border-top-color: var(--fill-color);\n",
              "    }\n",
              "    60% {\n",
              "      border-color: transparent;\n",
              "      border-right-color: var(--fill-color);\n",
              "    }\n",
              "    80% {\n",
              "      border-color: transparent;\n",
              "      border-right-color: var(--fill-color);\n",
              "      border-bottom-color: var(--fill-color);\n",
              "    }\n",
              "    90% {\n",
              "      border-color: transparent;\n",
              "      border-bottom-color: var(--fill-color);\n",
              "    }\n",
              "  }\n",
              "</style>\n",
              "\n",
              "      <script>\n",
              "        async function quickchart(key) {\n",
              "          const quickchartButtonEl =\n",
              "            document.querySelector('#' + key + ' button');\n",
              "          quickchartButtonEl.disabled = true;  // To prevent multiple clicks.\n",
              "          quickchartButtonEl.classList.add('colab-df-spinner');\n",
              "          try {\n",
              "            const charts = await google.colab.kernel.invokeFunction(\n",
              "                'suggestCharts', [key], {});\n",
              "          } catch (error) {\n",
              "            console.error('Error during call to suggestCharts:', error);\n",
              "          }\n",
              "          quickchartButtonEl.classList.remove('colab-df-spinner');\n",
              "          quickchartButtonEl.classList.add('colab-df-quickchart-complete');\n",
              "        }\n",
              "        (() => {\n",
              "          let quickchartButtonEl =\n",
              "            document.querySelector('#df-af5fb21b-ee4b-40c1-921d-aee0ed088b24 button');\n",
              "          quickchartButtonEl.style.display =\n",
              "            google.colab.kernel.accessAllowed ? 'block' : 'none';\n",
              "        })();\n",
              "      </script>\n",
              "    </div>\n",
              "\n",
              "    </div>\n",
              "  </div>\n"
            ],
            "application/vnd.google.colaboratory.intrinsic+json": {
              "type": "dataframe",
              "variable_name": "df",
              "summary": "{\n  \"name\": \"df\",\n  \"rows\": 20000,\n  \"fields\": [\n    {\n      \"column\": \"target\",\n      \"properties\": {\n        \"dtype\": \"category\",\n        \"num_unique_values\": 2,\n        \"samples\": [\n          \"positive\",\n          \"negative\"\n        ],\n        \"semantic_type\": \"\",\n        \"description\": \"\"\n      }\n    },\n    {\n      \"column\": \"id\",\n      \"properties\": {\n        \"dtype\": \"number\",\n        \"std\": 193886700,\n        \"min\": 1467815753,\n        \"max\": 2329178558,\n        \"num_unique_values\": 19999,\n        \"samples\": [\n          2218868086,\n          1999759768\n        ],\n        \"semantic_type\": \"\",\n        \"description\": \"\"\n      }\n    },\n    {\n      \"column\": \"date\",\n      \"properties\": {\n        \"dtype\": \"object\",\n        \"num_unique_values\": 19709,\n        \"samples\": [\n          \"Sun May 31 10:41:37 PDT 2009\",\n          \"Sun Jun 07 18:51:40 PDT 2009\"\n        ],\n        \"semantic_type\": \"\",\n        \"description\": \"\"\n      }\n    },\n    {\n      \"column\": \"flag\",\n      \"properties\": {\n        \"dtype\": \"category\",\n        \"num_unique_values\": 1,\n        \"samples\": [\n          \"NO_QUERY\"\n        ],\n        \"semantic_type\": \"\",\n        \"description\": \"\"\n      }\n    },\n    {\n      \"column\": \"user\",\n      \"properties\": {\n        \"dtype\": \"string\",\n        \"num_unique_values\": 18965,\n        \"samples\": [\n          \"LadyMissSonic\"\n        ],\n        \"semantic_type\": \"\",\n        \"description\": \"\"\n      }\n    },\n    {\n      \"column\": \"text\",\n      \"properties\": {\n        \"dtype\": \"string\",\n        \"num_unique_values\": 19982,\n        \"samples\": [\n          \"@gooberbaby13 aww, it's great!  we all should hang out soon.  [;  @bwanalilolath @acely @allisonjones49 thank you!  \"\n        ],\n        \"semantic_type\": \"\",\n        \"description\": \"\"\n      }\n    }\n  ]\n}"
            }
          },
          "metadata": {},
          "execution_count": 34
        }
      ],
      "source": [
        "df.head()"
      ]
    },
    {
      "cell_type": "code",
      "execution_count": 35,
      "metadata": {
        "colab": {
          "base_uri": "https://localhost:8080/",
          "height": 178
        },
        "id": "SvERsFxO6KFY",
        "outputId": "dca7699a-63b4-4fa7-c0c9-889a150788a2"
      },
      "outputs": [
        {
          "output_type": "execute_result",
          "data": {
            "text/plain": [
              "target\n",
              "positive    10058\n",
              "negative     9942\n",
              "Name: count, dtype: int64"
            ],
            "text/html": [
              "<div>\n",
              "<style scoped>\n",
              "    .dataframe tbody tr th:only-of-type {\n",
              "        vertical-align: middle;\n",
              "    }\n",
              "\n",
              "    .dataframe tbody tr th {\n",
              "        vertical-align: top;\n",
              "    }\n",
              "\n",
              "    .dataframe thead th {\n",
              "        text-align: right;\n",
              "    }\n",
              "</style>\n",
              "<table border=\"1\" class=\"dataframe\">\n",
              "  <thead>\n",
              "    <tr style=\"text-align: right;\">\n",
              "      <th></th>\n",
              "      <th>count</th>\n",
              "    </tr>\n",
              "    <tr>\n",
              "      <th>target</th>\n",
              "      <th></th>\n",
              "    </tr>\n",
              "  </thead>\n",
              "  <tbody>\n",
              "    <tr>\n",
              "      <th>positive</th>\n",
              "      <td>10058</td>\n",
              "    </tr>\n",
              "    <tr>\n",
              "      <th>negative</th>\n",
              "      <td>9942</td>\n",
              "    </tr>\n",
              "  </tbody>\n",
              "</table>\n",
              "</div><br><label><b>dtype:</b> int64</label>"
            ]
          },
          "metadata": {},
          "execution_count": 35
        }
      ],
      "source": [
        "df['target'].value_counts()"
      ]
    },
    {
      "cell_type": "code",
      "execution_count": 36,
      "metadata": {
        "colab": {
          "base_uri": "https://localhost:8080/"
        },
        "id": "cj0uz4BB6KH8",
        "outputId": "540b1a55-2e88-489e-f066-bcbb3daa23a6"
      },
      "outputs": [
        {
          "output_type": "execute_result",
          "data": {
            "text/plain": [
              "(20000, 6)"
            ]
          },
          "metadata": {},
          "execution_count": 36
        }
      ],
      "source": [
        "df.shape"
      ]
    },
    {
      "cell_type": "code",
      "execution_count": 37,
      "metadata": {
        "colab": {
          "base_uri": "https://localhost:8080/",
          "height": 272
        },
        "id": "xa0A1Fo-6KKo",
        "outputId": "d1abd0ce-4268-4863-ff44-287277aeee6b"
      },
      "outputs": [
        {
          "output_type": "execute_result",
          "data": {
            "text/plain": [
              "target    0\n",
              "id        0\n",
              "date      0\n",
              "flag      0\n",
              "user      0\n",
              "text      0\n",
              "dtype: int64"
            ],
            "text/html": [
              "<div>\n",
              "<style scoped>\n",
              "    .dataframe tbody tr th:only-of-type {\n",
              "        vertical-align: middle;\n",
              "    }\n",
              "\n",
              "    .dataframe tbody tr th {\n",
              "        vertical-align: top;\n",
              "    }\n",
              "\n",
              "    .dataframe thead th {\n",
              "        text-align: right;\n",
              "    }\n",
              "</style>\n",
              "<table border=\"1\" class=\"dataframe\">\n",
              "  <thead>\n",
              "    <tr style=\"text-align: right;\">\n",
              "      <th></th>\n",
              "      <th>0</th>\n",
              "    </tr>\n",
              "  </thead>\n",
              "  <tbody>\n",
              "    <tr>\n",
              "      <th>target</th>\n",
              "      <td>0</td>\n",
              "    </tr>\n",
              "    <tr>\n",
              "      <th>id</th>\n",
              "      <td>0</td>\n",
              "    </tr>\n",
              "    <tr>\n",
              "      <th>date</th>\n",
              "      <td>0</td>\n",
              "    </tr>\n",
              "    <tr>\n",
              "      <th>flag</th>\n",
              "      <td>0</td>\n",
              "    </tr>\n",
              "    <tr>\n",
              "      <th>user</th>\n",
              "      <td>0</td>\n",
              "    </tr>\n",
              "    <tr>\n",
              "      <th>text</th>\n",
              "      <td>0</td>\n",
              "    </tr>\n",
              "  </tbody>\n",
              "</table>\n",
              "</div><br><label><b>dtype:</b> int64</label>"
            ]
          },
          "metadata": {},
          "execution_count": 37
        }
      ],
      "source": [
        "df.isnull().sum()"
      ]
    },
    {
      "cell_type": "code",
      "execution_count": 38,
      "metadata": {
        "colab": {
          "base_uri": "https://localhost:8080/"
        },
        "id": "qRfDJWpC6KNd",
        "outputId": "e403be04-64db-4dd0-aefc-a7de3440a148"
      },
      "outputs": [
        {
          "output_type": "execute_result",
          "data": {
            "text/plain": [
              "0"
            ]
          },
          "metadata": {},
          "execution_count": 38
        }
      ],
      "source": [
        "df.duplicated().sum()"
      ]
    },
    {
      "cell_type": "code",
      "execution_count": 39,
      "metadata": {
        "colab": {
          "base_uri": "https://localhost:8080/",
          "height": 497
        },
        "id": "JEmvyOzk6KQ1",
        "outputId": "d41c7019-769f-4ded-cd5e-e1e4a48628d5"
      },
      "outputs": [
        {
          "output_type": "stream",
          "name": "stderr",
          "text": [
            "/tmp/ipython-input-4260171924.py:6: FutureWarning: \n",
            "\n",
            "Passing `palette` without assigning `hue` is deprecated and will be removed in v0.14.0. Assign the `x` variable to `hue` and set `legend=False` for the same effect.\n",
            "\n",
            "  sns.countplot(data=df, x=\"target\", palette=\"Set2\")\n"
          ]
        },
        {
          "output_type": "display_data",
          "data": {
            "text/plain": [
              "<Figure size 600x400 with 1 Axes>"
            ],
            "image/png": "[encoded data removed]"
          },
          "metadata": {}
        }
      ],
      "source": [
        "import matplotlib.pyplot as plt\n",
        "import seaborn as sns\n",
        "\n",
        "\n",
        "plt.figure(figsize=(6,4))\n",
        "sns.countplot(data=df, x=\"target\", palette=\"Set2\")\n",
        "plt.title(\"Class Distribution\")\n",
        "plt.show()"
      ]
    },
    {
      "cell_type": "code",
      "execution_count": 40,
      "metadata": {
        "colab": {
          "base_uri": "https://localhost:8080/",
          "height": 458
        },
        "id": "2XbCKa0D7FuM",
        "outputId": "460ee468-b189-49ef-ecd4-d33623d6256f"
      },
      "outputs": [
        {
          "output_type": "execute_result",
          "data": {
            "text/plain": [
              "0         38\n",
              "1         57\n",
              "2        137\n",
              "3         91\n",
              "4         22\n",
              "        ... \n",
              "19995    103\n",
              "19996     66\n",
              "19997     53\n",
              "19998     41\n",
              "19999     93\n",
              "Name: text, Length: 20000, dtype: int64"
            ],
            "text/html": [
              "<div>\n",
              "<style scoped>\n",
              "    .dataframe tbody tr th:only-of-type {\n",
              "        vertical-align: middle;\n",
              "    }\n",
              "\n",
              "    .dataframe tbody tr th {\n",
              "        vertical-align: top;\n",
              "    }\n",
              "\n",
              "    .dataframe thead th {\n",
              "        text-align: right;\n",
              "    }\n",
              "</style>\n",
              "<table border=\"1\" class=\"dataframe\">\n",
              "  <thead>\n",
              "    <tr style=\"text-align: right;\">\n",
              "      <th></th>\n",
              "      <th>text</th>\n",
              "    </tr>\n",
              "  </thead>\n",
              "  <tbody>\n",
              "    <tr>\n",
              "      <th>0</th>\n",
              "      <td>38</td>\n",
              "    </tr>\n",
              "    <tr>\n",
              "      <th>1</th>\n",
              "      <td>57</td>\n",
              "    </tr>\n",
              "    <tr>\n",
              "      <th>2</th>\n",
              "      <td>137</td>\n",
              "    </tr>\n",
              "    <tr>\n",
              "      <th>3</th>\n",
              "      <td>91</td>\n",
              "    </tr>\n",
              "    <tr>\n",
              "      <th>4</th>\n",
              "      <td>22</td>\n",
              "    </tr>\n",
              "    <tr>\n",
              "      <th>...</th>\n",
              "      <td>...</td>\n",
              "    </tr>\n",
              "    <tr>\n",
              "      <th>19995</th>\n",
              "      <td>103</td>\n",
              "    </tr>\n",
              "    <tr>\n",
              "      <th>19996</th>\n",
              "      <td>66</td>\n",
              "    </tr>\n",
              "    <tr>\n",
              "      <th>19997</th>\n",
              "      <td>53</td>\n",
              "    </tr>\n",
              "    <tr>\n",
              "      <th>19998</th>\n",
              "      <td>41</td>\n",
              "    </tr>\n",
              "    <tr>\n",
              "      <th>19999</th>\n",
              "      <td>93</td>\n",
              "    </tr>\n",
              "  </tbody>\n",
              "</table>\n",
              "<p>20000 rows × 1 columns</p>\n",
              "</div><br><label><b>dtype:</b> int64</label>"
            ]
          },
          "metadata": {},
          "execution_count": 40
        }
      ],
      "source": [
        "df[\"text\"].str.len()"
      ]
    },
    {
      "cell_type": "code",
      "execution_count": 41,
      "metadata": {
        "colab": {
          "base_uri": "https://localhost:8080/",
          "height": 410
        },
        "id": "RU5_cFt17Frq",
        "outputId": "94fa0717-d8ec-4dee-b162-788860c26975"
      },
      "outputs": [
        {
          "output_type": "display_data",
          "data": {
            "text/plain": [
              "<Figure size 600x400 with 1 Axes>"
            ],
            "image/png": "[encoded data removed]"
          },
          "metadata": {}
        }
      ],
      "source": [
        "plt.figure(figsize=(6,4))\n",
        "sns.histplot(df[\"text\"].str.len(), bins=30, kde=True, color=\"skyblue\")\n",
        "plt.title(\"Tweet Length Distribution\")\n",
        "plt.xlabel(\"Length of Tweet\")\n",
        "plt.ylabel(\"Count\")\n",
        "plt.show()"
      ]
    },
    {
      "cell_type": "code",
      "execution_count": 42,
      "metadata": {
        "colab": {
          "base_uri": "https://localhost:8080/",
          "height": 651
        },
        "id": "fEl5CGAs7Fzf",
        "outputId": "20a24c3e-3219-43e7-b16c-aee68c2f5cae"
      },
      "outputs": [
        {
          "output_type": "stream",
          "name": "stderr",
          "text": [
            "/tmp/ipython-input-1551190115.py:12: FutureWarning: \n",
            "\n",
            "Passing `palette` without assigning `hue` is deprecated and will be removed in v0.14.0. Assign the `y` variable to `hue` and set `legend=False` for the same effect.\n",
            "\n",
            "  sns.barplot(x=list(counts), y=list(words), palette=\"mako\")\n"
          ]
        },
        {
          "output_type": "display_data",
          "data": {
            "text/plain": [
              "<Figure size 1000x600 with 1 Axes>"
            ],
            "image/png": "[encoded data removed]"
          },
          "metadata": {}
        }
      ],
      "source": [
        "from collections import Counter\n",
        "\n",
        "\n",
        "all_words = \" \".join(df[\"text\"]).split()\n",
        "word_counts = Counter(all_words)\n",
        "\n",
        "top_words = word_counts.most_common(20)\n",
        "\n",
        "words, counts = zip(*top_words)\n",
        "\n",
        "plt.figure(figsize=(10,6))\n",
        "sns.barplot(x=list(counts), y=list(words), palette=\"mako\")\n",
        "plt.title(\"Top Frequent Tokens\")\n",
        "plt.xlabel(\"Frequency\")\n",
        "plt.ylabel(\"Token\")\n",
        "plt.show()\n"
      ]
    },
    {
      "cell_type": "markdown",
      "metadata": {
        "id": "0xu7WPGh9Qd9"
      },
      "source": [
        "**They are all considered stop words**"
      ]
    },
    {
      "cell_type": "code",
      "execution_count": 43,
      "metadata": {
        "colab": {
          "base_uri": "https://localhost:8080/"
        },
        "id": "_fauKBPo7F2g",
        "outputId": "e2754963-537b-463f-c969-6a6ec956f3c7"
      },
      "outputs": [
        {
          "output_type": "stream",
          "name": "stdout",
          "text": [
            "Before Cleaning:\n",
            "0               @chrishasboobs AHHH I HOPE YOUR OK!!! \n",
            "1    @misstoriblack cool , i have no tweet apps  fo...\n",
            "2    @TiannaChaos i know  just family drama. its la...\n",
            "Name: text, dtype: object\n",
            "------------------------------------------------------------\n",
            "After Cleaning:\n",
            "0                                  AHHH I HOPE YOUR OK\n",
            "1              cool i have no tweet apps for my razr 2\n",
            "2    i know just family drama its lame hey next tim...\n",
            "Name: text, dtype: object\n"
          ]
        }
      ],
      "source": [
        "import re\n",
        "\n",
        "def clean_tweet(text):\n",
        "    text = re.sub(r\"http\\S+|www\\S+\", \" \", text)   # remove URLs\n",
        "    text = re.sub(r\"\\s*@\\w+\", \" \", text)          # remove mentions\n",
        "    text = re.sub(r\"\\s*#\\w+\", \" \", text)          # remove hashtags\n",
        "    text = re.sub(r\"[^\\w\\s]\", \" \", text)          # remove punctuation/emojis\n",
        "    text = \" \".join(text.split())                 # normalize spaces\n",
        "    return text\n",
        "\n",
        "print(\"Before Cleaning:\")\n",
        "print(df[\"text\"].head(3))\n",
        "\n",
        "print(\"-\"*60)\n",
        "\n",
        "print(\"After Cleaning:\")\n",
        "print(df[\"text\"].head(3).apply(clean_tweet))\n",
        "\n"
      ]
    },
    {
      "cell_type": "code",
      "execution_count": 44,
      "metadata": {
        "id": "Y1qepUxlBjso"
      },
      "outputs": [],
      "source": [
        "import spacy\n",
        "nlp = spacy.load(\"en_core_web_sm\")\n",
        "\n",
        "\n",
        "\n",
        "def spacy_tokenizer(text):\n",
        "    doc = nlp(text)\n",
        "    return [token.text for token in doc if not token.is_space]"
      ]
    },
    {
      "cell_type": "code",
      "execution_count": 45,
      "metadata": {
        "colab": {
          "base_uri": "https://localhost:8080/"
        },
        "id": "FhBleg-N7F8A",
        "outputId": "d0b15bab-72ae-425d-9968-e7daaadce6c6"
      },
      "outputs": [
        {
          "output_type": "stream",
          "name": "stdout",
          "text": [
            "Vocabulary size before cleaning: 37476\n",
            "Vocabulary size after cleaning : 20579\n",
            "Example tokens\n",
            "Tweet 1:\n",
            "Before: ['@chrishasboobs', 'AHHH', 'I', 'HOPE', 'YOUR', 'OK', '!', '!', '!']\n",
            "After : ['ahhh', 'i', 'hope', 'your', 'ok']\n",
            "--------------------------------------------------\n",
            "Tweet 2:\n",
            "Before: ['@misstoriblack', 'cool', ',', 'i', 'have', 'no', 'tweet', 'apps', 'for', 'my', 'razr', '2']\n",
            "After : ['cool', 'i', 'have', 'no', 'tweet', 'apps', 'for', 'my', 'razr', '2']\n",
            "--------------------------------------------------\n",
            "Tweet 3:\n",
            "Before: ['@TiannaChaos', 'i', 'know', 'just', 'family', 'drama', '.', 'its', 'lame.hey', 'next', 'time', 'u', 'hang', 'out', 'with', 'kim', 'n', 'u', 'guys', 'like', 'have', 'a', 'sleepover', 'or', 'whatever', ',', 'ill', 'call', 'u']\n",
            "After : ['i', 'know', 'just', 'family', 'drama', 'its', 'lame', 'hey', 'next', 'time', 'u', 'hang', 'out', 'with', 'kim', 'n', 'u', 'guys', 'like', 'have', 'a', 'sleepover', 'or', 'whatever', 'ill', 'call', 'u']\n",
            "--------------------------------------------------\n"
          ]
        }
      ],
      "source": [
        "df[\"tokens_before\"] = df[\"text\"].apply(spacy_tokenizer)\n",
        "\n",
        "\n",
        "df[\"clean_text\"] = df[\"text\"].apply(clean_tweet).str.lower()\n",
        "df[\"tokens_after\"] = df[\"clean_text\"].apply(spacy_tokenizer)\n",
        "\n",
        "\n",
        "vocab_before = set([tok for tokens in df[\"tokens_before\"] for tok in tokens])\n",
        "vocab_after = set([tok for tokens in df[\"tokens_after\"] for tok in tokens])\n",
        "\n",
        "print(\"Vocabulary size before cleaning:\", len(vocab_before))\n",
        "print(\"Vocabulary size after cleaning :\", len(vocab_after))\n",
        "\n",
        "\n",
        "print(\"Example tokens\")\n",
        "for i in range(3):\n",
        "    print(f\"Tweet {i+1}:\")\n",
        "    print(\"Before:\", df['tokens_before'].iloc[i])\n",
        "    print(\"After :\", df['tokens_after'].iloc[i])\n",
        "    print(\"-\"*50)\n"
      ]
    },
    {
      "cell_type": "code",
      "execution_count": 46,
      "metadata": {
        "colab": {
          "base_uri": "https://localhost:8080/"
        },
        "id": "72AnD9W4TL-A",
        "outputId": "4f5d1b07-5ca9-47f8-8522-638f6871bea7"
      },
      "outputs": [
        {
          "output_type": "stream",
          "name": "stdout",
          "text": [
            "Requirement already satisfied: pyspellchecker in /usr/local/lib/python3.12/dist-packages (0.8.3)\n"
          ]
        }
      ],
      "source": [
        "!pip install pyspellchecker"
      ]
    },
    {
      "cell_type": "code",
      "execution_count": 47,
      "metadata": {
        "colab": {
          "base_uri": "https://localhost:8080/"
        },
        "id": "HxbgDCiX7F--",
        "outputId": "5008e4eb-7d79-4154-e4a5-1ebd242cdf64"
      },
      "outputs": [
        {
          "output_type": "stream",
          "name": "stderr",
          "text": [
            "[nltk_data] Downloading package wordnet to /root/nltk_data...\n",
            "[nltk_data]   Package wordnet is already up-to-date!\n",
            "[nltk_data] Downloading package punkt_tab to /root/nltk_data...\n",
            "[nltk_data]   Package punkt_tab is already up-to-date!\n",
            "[nltk_data] Downloading package stopwords to /root/nltk_data...\n",
            "[nltk_data]   Package stopwords is already up-to-date!\n",
            "[nltk_data] Downloading package words to /root/nltk_data...\n",
            "[nltk_data]   Package words is already up-to-date!\n"
          ]
        }
      ],
      "source": [
        "import nltk\n",
        "from nltk.corpus import stopwords, words\n",
        "\n",
        "\n",
        "nltk.download('wordnet')\n",
        "nltk.download('punkt_tab')\n",
        "nltk.download('stopwords')\n",
        "nltk.download('words')\n",
        "stop_words = set(stopwords.words('english'))\n",
        "\n",
        "\n",
        "negations_en = {\n",
        "    \"no\", \"not\", \"nor\", \"never\", \"neither\", \"none\", \"nobody\", \"nothing\", \"nowhere\",\n",
        "    \"cannot\", \"can't\", \"dont\", \"don't\", \"doesnt\", \"doesn't\", \"didnt\", \"didn't\",\n",
        "    \"isnt\", \"isn't\", \"wasnt\", \"wasn't\", \"werent\", \"weren't\",\n",
        "    \"havent\", \"haven't\", \"hasnt\", \"hasn't\", \"hadnt\", \"hadn't\",\n",
        "    \"won't\", \"wouldnt\", \"wouldn't\", \"shouldnt\", \"shouldn't\", \"mustnt\", \"mustn't\",\n",
        "    \"aint\",\"ain't\", \"aren't\",\"couldn't\",'didn','aren','hadn', 'hasn','haven', 'isn',\n",
        "    'mightn', \"mightn't\",'mustn', 'needn',\"needn't\", 'can','didn', 'doesn','wouldn',\n",
        "    'shouldn','isn', 'weren', 'wasn'\n",
        "}\n",
        "\n",
        "\n",
        "\n",
        "stop_words = stop_words - negations_en"
      ]
    },
    {
      "cell_type": "code",
      "execution_count": 48,
      "metadata": {
        "colab": {
          "base_uri": "https://localhost:8080/"
        },
        "id": "_VAVtO_lWhsY",
        "outputId": "38727ba7-0783-4a6f-b5b5-ab6d3944802a"
      },
      "outputs": [
        {
          "output_type": "execute_result",
          "data": {
            "text/plain": [
              "['into',\n",
              " 'of',\n",
              " 'such',\n",
              " 'ourselves',\n",
              " 'she',\n",
              " 'themselves',\n",
              " 'before',\n",
              " 'his',\n",
              " 'them',\n",
              " 'are',\n",
              " 'under',\n",
              " 'yourself',\n",
              " \"should've\",\n",
              " 'when',\n",
              " \"you're\",\n",
              " 'couldn',\n",
              " \"she'll\",\n",
              " 'him',\n",
              " 'having',\n",
              " 'as']"
            ]
          },
          "metadata": {},
          "execution_count": 48
        }
      ],
      "source": [
        "list(stop_words)[:20]"
      ]
    },
    {
      "cell_type": "code",
      "execution_count": 49,
      "metadata": {
        "colab": {
          "base_uri": "https://localhost:8080/"
        },
        "id": "EnfwcJ2M7GCd",
        "outputId": "7cf207d3-7a9f-46cb-9d0b-cfd8341f3c0d"
      },
      "outputs": [
        {
          "output_type": "stream",
          "name": "stdout",
          "text": [
            "Example:\n",
            "Before: ['ahhh', 'i', 'hope', 'your', 'ok']\n",
            "After : ['ahhh', 'hope', 'ok']\n"
          ]
        }
      ],
      "source": [
        "import string\n",
        "\n",
        "\n",
        "def preprocess_tokens(tokens):\n",
        "    clean_tokens = []\n",
        "    for tok in tokens:\n",
        "\n",
        "        if tok in stop_words:\n",
        "            continue\n",
        "\n",
        "        if tok.isdigit():\n",
        "            clean_tokens.append(\"<NUM>\")\n",
        "            continue\n",
        "\n",
        "        if tok in string.punctuation:\n",
        "            continue\n",
        "        clean_tokens.append(tok)\n",
        "    return clean_tokens\n",
        "\n",
        "\n",
        "df[\"final_tokens\"] = df[\"tokens_after\"].apply(preprocess_tokens)\n",
        "\n",
        "print(\"Example:\")\n",
        "print(\"Before:\", df[\"tokens_after\"].iloc[0])\n",
        "print(\"After :\", df[\"final_tokens\"].iloc[0])\n"
      ]
    },
    {
      "cell_type": "markdown",
      "metadata": {
        "id": "V2nMp0lKajHf"
      },
      "source": [
        "**Explanation:**\n",
        "\n",
        "In pipeline, I decided not to completely remove numbers. While numbers themselves do not directly carry sentiment like iphone 15, they can still provide important contextual cues that influence the polarity of a tweet.\n",
        "\n",
        "For example:\n",
        "\n",
        "“I waited 3 hours” → negative sentiment.\n",
        "\n",
        "“I got 100% on my test” → positive sentiment.\n",
        "\n",
        "“The movie was 2/10” → negative sentiment.\n",
        "\n",
        "If we simply removed all numbers, this information would be lost. On the other hand, keeping raw numbers would unnecessarily increase vocabulary size.\n",
        "\n",
        "The best compromise is to replace all numbers with a special token **< NUM >**. This way, the model can still learn that the presence of a number may affect sentiment, without overfitting to specific numeric values."
      ]
    },
    {
      "cell_type": "code",
      "execution_count": 50,
      "metadata": {
        "colab": {
          "base_uri": "https://localhost:8080/"
        },
        "id": "784riYdFb9eU",
        "outputId": "e3bdec21-2531-404b-c977-7305c186b480"
      },
      "outputs": [
        {
          "output_type": "stream",
          "name": "stdout",
          "text": [
            "Wo rd       Stemming    Lemmatization\n",
            "----------------------------------------\n",
            "running     run         run\n",
            "flies       fli         fly\n",
            "better      better      well\n",
            "happiest    happiest    happy\n",
            "studies     studi       study\n",
            "easily      easili      easily\n",
            "bigger      bigger      big\n",
            "playing     play        play\n",
            "connected   connect     connect\n",
            "cars        car         car\n",
            "went        went        go\n",
            "doing       do          do\n",
            "geese       gees        geese\n",
            "fishing     fish        fishing\n",
            "argued      argu        argue\n",
            "drove       drove       drive\n",
            "wolves      wolv        wolf\n",
            "children    children    child\n",
            "meeting     meet        meeting\n",
            "hopes       hope        hope\n"
          ]
        }
      ],
      "source": [
        "import spacy\n",
        "from nltk.stem import PorterStemmer\n",
        "\n",
        "nlp = spacy.load(\"en_core_web_sm\")\n",
        "stemmer = PorterStemmer()\n",
        "\n",
        "sample_words = [\n",
        "    \"running\", \"flies\", \"better\", \"happiest\", \"studies\",\n",
        "    \"easily\", \"bigger\", \"playing\", \"connected\", \"cars\",\n",
        "    \"went\", \"doing\", \"geese\", \"fishing\", \"argued\",\n",
        "    \"drove\", \"wolves\", \"children\", \"meeting\", \"hopes\"\n",
        "]\n",
        "\n",
        "print(f\"{'Wo rd':<12}{'Stemming':<12}{'Lemmatization'}\")\n",
        "print(\"-\"*40)\n",
        "for word in sample_words:\n",
        "    stem = stemmer.stem(word)\n",
        "    lemma = nlp(word)[0].lemma_\n",
        "    print(f\"{word:<12}{stem:<12}{lemma}\")\n"
      ]
    },
    {
      "cell_type": "code",
      "execution_count": 51,
      "metadata": {
        "id": "BunhuvetibW8"
      },
      "outputs": [],
      "source": [
        "df = df[df[\"final_tokens\"].apply(len) > 0]\n",
        "df[\"final_text\"] = df[\"final_tokens\"].apply(lambda tokens: \" \".join(tokens))"
      ]
    },
    {
      "cell_type": "code",
      "execution_count": 52,
      "metadata": {
        "colab": {
          "base_uri": "https://localhost:8080/",
          "height": 241
        },
        "id": "CW9wF6Vpi1UJ",
        "outputId": "092fa5fa-f0d7-4030-b2dd-d760330ed530"
      },
      "outputs": [
        {
          "output_type": "execute_result",
          "data": {
            "text/plain": [
              "0    negative\n",
              "1    negative\n",
              "2    negative\n",
              "3    negative\n",
              "4    negative\n",
              "Name: target, dtype: object"
            ],
            "text/html": [
              "<div>\n",
              "<style scoped>\n",
              "    .dataframe tbody tr th:only-of-type {\n",
              "        vertical-align: middle;\n",
              "    }\n",
              "\n",
              "    .dataframe tbody tr th {\n",
              "        vertical-align: top;\n",
              "    }\n",
              "\n",
              "    .dataframe thead th {\n",
              "        text-align: right;\n",
              "    }\n",
              "</style>\n",
              "<table border=\"1\" class=\"dataframe\">\n",
              "  <thead>\n",
              "    <tr style=\"text-align: right;\">\n",
              "      <th></th>\n",
              "      <th>target</th>\n",
              "    </tr>\n",
              "  </thead>\n",
              "  <tbody>\n",
              "    <tr>\n",
              "      <th>0</th>\n",
              "      <td>negative</td>\n",
              "    </tr>\n",
              "    <tr>\n",
              "      <th>1</th>\n",
              "      <td>negative</td>\n",
              "    </tr>\n",
              "    <tr>\n",
              "      <th>2</th>\n",
              "      <td>negative</td>\n",
              "    </tr>\n",
              "    <tr>\n",
              "      <th>3</th>\n",
              "      <td>negative</td>\n",
              "    </tr>\n",
              "    <tr>\n",
              "      <th>4</th>\n",
              "      <td>negative</td>\n",
              "    </tr>\n",
              "  </tbody>\n",
              "</table>\n",
              "</div><br><label><b>dtype:</b> object</label>"
            ]
          },
          "metadata": {},
          "execution_count": 52
        }
      ],
      "source": [
        "df[\"target\"].head()"
      ]
    },
    {
      "cell_type": "code",
      "execution_count": 53,
      "metadata": {
        "id": "YE6oRPQli0U_"
      },
      "outputs": [],
      "source": [
        "df[\"target\"] = df[\"target\"].map({\"negative\":0, \"positive\":1})"
      ]
    },
    {
      "cell_type": "code",
      "execution_count": 54,
      "metadata": {
        "colab": {
          "base_uri": "https://localhost:8080/"
        },
        "id": "55hxNgmRb9hK",
        "outputId": "30e4fd0c-18c8-4453-f39d-41ef48657dca"
      },
      "outputs": [
        {
          "output_type": "stream",
          "name": "stderr",
          "text": [
            "/usr/local/lib/python3.12/dist-packages/sklearn/feature_extraction/text.py:517: UserWarning: The parameter 'token_pattern' will not be used since 'tokenizer' is not None'\n",
            "  warnings.warn(\n"
          ]
        },
        {
          "output_type": "stream",
          "name": "stdout",
          "text": [
            "Accuracy with Stemming: 0.5675539929683576\n",
            "              precision    recall  f1-score   support\n",
            "\n",
            "           0       0.57      0.52      0.54      1968\n",
            "           1       0.57      0.61      0.59      2014\n",
            "\n",
            "    accuracy                           0.57      3982\n",
            "   macro avg       0.57      0.57      0.57      3982\n",
            "weighted avg       0.57      0.57      0.57      3982\n",
            "\n"
          ]
        }
      ],
      "source": [
        "from sklearn.feature_extraction.text import CountVectorizer\n",
        "from sklearn.linear_model import LogisticRegression\n",
        "from sklearn.model_selection import train_test_split\n",
        "from sklearn.metrics import accuracy_score, classification_report\n",
        "\n",
        "\n",
        "def stem_tokens(tokens):\n",
        "    return [stemmer.stem(t) for t in tokens]\n",
        "\n",
        "\n",
        "y = df[\"target\"]\n",
        "X_train, X_test, y_train, y_test = train_test_split(\n",
        "    df[\"final_text\"], y, test_size=0.2, random_state=42\n",
        ")\n",
        "\n",
        "vectorizer_stem = CountVectorizer(tokenizer=stem_tokens)\n",
        "X_train_vec = vectorizer_stem.fit_transform(X_train)\n",
        "X_test_vec = vectorizer_stem.transform(X_test)\n",
        "\n",
        "\n",
        "model_stem = LogisticRegression(max_iter=1000)\n",
        "model_stem.fit(X_train_vec, y_train)\n",
        "\n",
        "\n",
        "y_pred = model_stem.predict(X_test_vec)\n",
        "acc_stem = accuracy_score(y_test, y_pred)\n",
        "\n",
        "print(\"Accuracy with Stemming:\", acc_stem)\n",
        "print(classification_report(y_test, y_pred))\n",
        "\n"
      ]
    },
    {
      "cell_type": "code",
      "execution_count": 55,
      "metadata": {
        "colab": {
          "base_uri": "https://localhost:8080/"
        },
        "id": "8HhvRxqkb9j_",
        "outputId": "fcc2af33-342c-4e81-ec72-85905da43fe6"
      },
      "outputs": [
        {
          "output_type": "stream",
          "name": "stderr",
          "text": [
            "/usr/local/lib/python3.12/dist-packages/sklearn/feature_extraction/text.py:517: UserWarning: The parameter 'token_pattern' will not be used since 'tokenizer' is not None'\n",
            "  warnings.warn(\n"
          ]
        },
        {
          "output_type": "stream",
          "name": "stdout",
          "text": [
            "Accuracy with Lemmatization: 0.5695630336514315\n",
            "              precision    recall  f1-score   support\n",
            "\n",
            "           0       0.57      0.52      0.55      1968\n",
            "           1       0.57      0.61      0.59      2014\n",
            "\n",
            "    accuracy                           0.57      3982\n",
            "   macro avg       0.57      0.57      0.57      3982\n",
            "weighted avg       0.57      0.57      0.57      3982\n",
            "\n"
          ]
        }
      ],
      "source": [
        "def lemma_tokens(tokens):\n",
        "    return [token.lemma_ for token in nlp(\" \".join(tokens))]\n",
        "\n",
        "\n",
        "\n",
        "X_train, X_test, y_train, y_test = train_test_split(\n",
        "    df[\"final_text\"], y, test_size=0.2, random_state=42\n",
        ")\n",
        "\n",
        "\n",
        "vectorizer_lemma = CountVectorizer(tokenizer=lemma_tokens)\n",
        "X_train_vec = vectorizer_lemma.fit_transform(X_train)\n",
        "X_test_vec = vectorizer_lemma.transform(X_test)\n",
        "\n",
        "\n",
        "model_lemma = LogisticRegression(max_iter=1000)\n",
        "model_lemma.fit(X_train_vec, y_train)\n",
        "\n",
        "\n",
        "y_pred = model_lemma.predict(X_test_vec)\n",
        "acc_lemma = accuracy_score(y_test, y_pred)\n",
        "\n",
        "print(\"Accuracy with Lemmatization:\", acc_lemma)\n",
        "print(classification_report(y_test, y_pred))\n"
      ]
    },
    {
      "cell_type": "code",
      "execution_count": 56,
      "metadata": {
        "colab": {
          "base_uri": "https://localhost:8080/"
        },
        "id": "d1LnIXRvb9qS",
        "outputId": "6a4ed475-cf0c-4ac4-ade6-c1b4a57e5239"
      },
      "outputs": [
        {
          "output_type": "stream",
          "name": "stdout",
          "text": [
            "                                          final_text  nouns  verbs  adjs\n",
            "0                                       ahhh hope ok      1      0     0\n",
            "1                      cool no tweet apps razr <NUM>      1      2     1\n",
            "2  know family drama lame hey next time u hang ki...      7      2     3\n",
            "3  school email open geography stuff revise stupi...      5      1     2\n",
            "4                              upper airways problem      2      0     1\n"
          ]
        }
      ],
      "source": [
        "def pos_features(text):\n",
        "    doc = nlp(text)\n",
        "    nouns = sum(1 for token in doc if token.pos_ == \"NOUN\")\n",
        "    verbs = sum(1 for token in doc if token.pos_ == \"VERB\")\n",
        "    adjs  = sum(1 for token in doc if token.pos_ == \"ADJ\")\n",
        "    return nouns, verbs, adjs\n",
        "\n",
        "df[[\"nouns\", \"verbs\", \"adjs\"]] = df[\"final_text\"].apply(lambda x: pd.Series(pos_features(x)))\n",
        "\n",
        "print(df[[\"final_text\", \"nouns\", \"verbs\", \"adjs\"]].head())\n"
      ]
    },
    {
      "cell_type": "code",
      "execution_count": 57,
      "metadata": {
        "id": "Q1gO2qtGkqyF",
        "colab": {
          "base_uri": "https://localhost:8080/"
        },
        "outputId": "8f49c6a7-76e3-44d4-9b09-8e567f9101a9"
      },
      "outputs": [
        {
          "output_type": "stream",
          "name": "stdout",
          "text": [
            "              precision    recall  f1-score   support\n",
            "\n",
            "           0       0.76      0.73      0.75      1968\n",
            "           1       0.75      0.77      0.76      2014\n",
            "\n",
            "    accuracy                           0.75      3982\n",
            "   macro avg       0.75      0.75      0.75      3982\n",
            "weighted avg       0.75      0.75      0.75      3982\n",
            "\n"
          ]
        }
      ],
      "source": [
        "from sklearn.feature_extraction.text import TfidfVectorizer\n",
        "from scipy.sparse import hstack\n",
        "\n",
        "\n",
        "X_train_text, X_test_text, y_train, y_test = train_test_split(\n",
        "    df[\"final_text\"], y, test_size=0.2, random_state=42\n",
        ")\n",
        "\n",
        "X_train_pos, X_test_pos = train_test_split(\n",
        "    df[[\"nouns\", \"verbs\", \"adjs\"]].values, test_size=0.2, random_state=42\n",
        ")\n",
        "\n",
        "\n",
        "vectorizer = TfidfVectorizer(max_features=5000)\n",
        "\n",
        "X_train_vec = vectorizer.fit_transform(X_train_text)\n",
        "X_test_vec = vectorizer.transform(X_test_text)\n",
        "\n",
        "\n",
        "X_train = hstack([X_train_vec, X_train_pos])\n",
        "X_test = hstack([X_test_vec, X_test_pos])\n",
        "\n",
        "\n",
        "model = LogisticRegression(max_iter=1000)\n",
        "model.fit(X_train, y_train)\n",
        "\n",
        "\n",
        "y_pred = model.predict(X_test)\n",
        "\n",
        "print(classification_report(y_test, y_pred))\n"
      ]
    },
    {
      "cell_type": "markdown",
      "metadata": {
        "id": "KP7cXeH-qh9j"
      },
      "source": [
        "**These linguistic features were added as extra numeric features alongside the TF-IDF representation of the text.**"
      ]
    },
    {
      "cell_type": "code",
      "execution_count": 58,
      "metadata": {
        "id": "RjfB8xizpsgV"
      },
      "outputs": [],
      "source": [
        "#!pip install --upgrade --force-reinstall numpy gensim"
      ]
    },
    {
      "cell_type": "code",
      "execution_count": 59,
      "metadata": {
        "id": "usCut9H1psdv",
        "colab": {
          "base_uri": "https://localhost:8080/"
        },
        "outputId": "9c5d524c-2ea0-4d9a-e1e4-94505b68751d"
      },
      "outputs": [
        {
          "output_type": "stream",
          "name": "stdout",
          "text": [
            "Word2Vec shape: (19907, 100)\n"
          ]
        }
      ],
      "source": [
        "import numpy as np\n",
        "import gensim.downloader as api\n",
        "\n",
        "\n",
        "w2v = api.load(\"glove-twitter-100\")\n",
        "\n",
        "\n",
        "\n",
        "def tweet_vector(tokens, model, vector_size=100):\n",
        "    vecs = []\n",
        "    for token in tokens:\n",
        "        if token in model:\n",
        "            vecs.append(model[token])\n",
        "    if len(vecs) == 0:\n",
        "        return np.zeros(vector_size)\n",
        "    else:\n",
        "        return np.mean(vecs, axis=0)\n",
        "\n",
        "\n",
        "X_w2v = np.array([tweet_vector(tokens, w2v) for tokens in df[\"final_tokens\"]])\n",
        "\n",
        "print(\"Word2Vec shape:\", X_w2v.shape)\n"
      ]
    },
    {
      "cell_type": "code",
      "execution_count": 60,
      "metadata": {
        "id": "VjgDmjt_psj-",
        "colab": {
          "base_uri": "https://localhost:8080/"
        },
        "outputId": "9ca28ce0-79a3-4e68-ea4a-b41a615f3b13"
      },
      "outputs": [
        {
          "output_type": "stream",
          "name": "stdout",
          "text": [
            "BOW: (15925, 17645) Vocab size: 17645\n",
            "TF-IDF: (15925, 17645) Vocab size: 17645\n",
            "Word2Vec: (19907, 100) Fixed dim: 100\n"
          ]
        }
      ],
      "source": [
        "X_train_text, X_test_text, y_train, y_test = train_test_split(\n",
        "    df[\"final_text\"], y, test_size=0.2, random_state=42\n",
        ")\n",
        "\n",
        "count_vec = CountVectorizer()\n",
        "X_train_bow = count_vec.fit_transform(X_train_text)\n",
        "X_test_bow = count_vec.transform(X_test_text)\n",
        "\n",
        "tfidf_vec = TfidfVectorizer()\n",
        "X_train_tfidf = tfidf_vec.fit_transform(X_train_text)\n",
        "X_test_tfidf = tfidf_vec.transform(X_test_text)\n",
        "\n",
        "print(\"BOW:\", X_train_bow.shape, \"Vocab size:\", len(count_vec.get_feature_names_out()))\n",
        "print(\"TF-IDF:\", X_train_tfidf.shape, \"Vocab size:\", len(tfidf_vec.get_feature_names_out()))\n",
        "print(\"Word2Vec:\", X_w2v.shape, \"Fixed dim: 100\")\n"
      ]
    },
    {
      "cell_type": "markdown",
      "source": [
        "**Bag-of-Words and TF–IDF representations both depend on the vocabulary extracted from the dataset, leading to very high-dimensional and sparse matrices. In contrast, Word2Vec produces dense embeddings of fixed dimension, independent of vocabulary size. This allows Word2Vec to capture semantic relationships between words and reduce dimensionality.**"
      ],
      "metadata": {
        "id": "AuC53hPq7-Dq"
      }
    },
    {
      "cell_type": "code",
      "execution_count": 61,
      "metadata": {
        "id": "YEE-ZA7XkrCk",
        "colab": {
          "base_uri": "https://localhost:8080/"
        },
        "outputId": "9d30c52c-f29f-477b-a732-ddcb47035ec0"
      },
      "outputs": [
        {
          "output_type": "stream",
          "name": "stdout",
          "text": [
            "============================================================\n",
            "BOW + Naive Bayes\n",
            "              precision    recall  f1-score   support\n",
            "\n",
            "           0       0.73      0.77      0.75      1968\n",
            "           1       0.76      0.72      0.74      2014\n",
            "\n",
            "    accuracy                           0.74      3982\n",
            "   macro avg       0.74      0.74      0.74      3982\n",
            "weighted avg       0.74      0.74      0.74      3982\n",
            "\n",
            "============================================================\n",
            "TF-IDF + Naive Bayes\n",
            "              precision    recall  f1-score   support\n",
            "\n",
            "           0       0.73      0.76      0.74      1968\n",
            "           1       0.75      0.72      0.74      2014\n",
            "\n",
            "    accuracy                           0.74      3982\n",
            "   macro avg       0.74      0.74      0.74      3982\n",
            "weighted avg       0.74      0.74      0.74      3982\n",
            "\n",
            "============================================================\n",
            "BOW + Logistic Regression\n",
            "              precision    recall  f1-score   support\n",
            "\n",
            "           0       0.75      0.72      0.74      1968\n",
            "           1       0.74      0.77      0.75      2014\n",
            "\n",
            "    accuracy                           0.75      3982\n",
            "   macro avg       0.75      0.75      0.75      3982\n",
            "weighted avg       0.75      0.75      0.75      3982\n",
            "\n",
            "============================================================\n",
            "TF-IDF + Logistic Regression\n",
            "              precision    recall  f1-score   support\n",
            "\n",
            "           0       0.76      0.74      0.75      1968\n",
            "           1       0.75      0.77      0.76      2014\n",
            "\n",
            "    accuracy                           0.76      3982\n",
            "   macro avg       0.76      0.76      0.76      3982\n",
            "weighted avg       0.76      0.76      0.76      3982\n",
            "\n",
            "============================================================\n",
            "BOW + Linear SVM\n",
            "              precision    recall  f1-score   support\n",
            "\n",
            "           0       0.74      0.69      0.71      1968\n",
            "           1       0.72      0.76      0.74      2014\n",
            "\n",
            "    accuracy                           0.73      3982\n",
            "   macro avg       0.73      0.72      0.72      3982\n",
            "weighted avg       0.73      0.73      0.72      3982\n",
            "\n",
            "============================================================\n",
            "TF-IDF + Linear SVM\n",
            "              precision    recall  f1-score   support\n",
            "\n",
            "           0       0.74      0.72      0.73      1968\n",
            "           1       0.74      0.75      0.75      2014\n",
            "\n",
            "    accuracy                           0.74      3982\n",
            "   macro avg       0.74      0.74      0.74      3982\n",
            "weighted avg       0.74      0.74      0.74      3982\n",
            "\n"
          ]
        }
      ],
      "source": [
        "from sklearn.pipeline import Pipeline\n",
        "from sklearn.naive_bayes import MultinomialNB\n",
        "from sklearn.svm import LinearSVC\n",
        "\n",
        "\n",
        "X_train, X_test, y_train, y_test = train_test_split(\n",
        "    df[\"final_text\"], y, test_size=0.2, random_state=42\n",
        ")\n",
        "\n",
        "\n",
        "pipelines = {\n",
        "    \"BOW + Naive Bayes\": Pipeline([\n",
        "        (\"vect\", CountVectorizer()),\n",
        "        (\"clf\", MultinomialNB())\n",
        "    ]),\n",
        "    \"TF-IDF + Naive Bayes\": Pipeline([\n",
        "        (\"vect\", TfidfVectorizer()),\n",
        "        (\"clf\", MultinomialNB())\n",
        "    ]),\n",
        "    \"BOW + Logistic Regression\": Pipeline([\n",
        "        (\"vect\", CountVectorizer()),\n",
        "        (\"clf\", LogisticRegression(max_iter=1000))\n",
        "    ]),\n",
        "    \"TF-IDF + Logistic Regression\": Pipeline([\n",
        "        (\"vect\", TfidfVectorizer()),\n",
        "        (\"clf\", LogisticRegression(max_iter=1000))\n",
        "    ]),\n",
        "    \"BOW + Linear SVM\": Pipeline([\n",
        "        (\"vect\", CountVectorizer()),\n",
        "        (\"clf\", LinearSVC())\n",
        "    ]),\n",
        "    \"TF-IDF + Linear SVM\": Pipeline([\n",
        "        (\"vect\", TfidfVectorizer()),\n",
        "        (\"clf\", LinearSVC())\n",
        "    ]),\n",
        "}\n",
        "\n",
        "\n",
        "for name, pipe in pipelines.items():\n",
        "    print(\"=\"*60)\n",
        "    print(name)\n",
        "    pipe.fit(X_train, y_train)\n",
        "    y_pred = pipe.predict(X_test)\n",
        "    print(classification_report(y_test, y_pred))\n"
      ]
    },
    {
      "cell_type": "code",
      "source": [
        "from sklearn.metrics import confusion_matrix, ConfusionMatrixDisplay\n",
        "import matplotlib.pyplot as plt\n",
        "\n",
        "cm = confusion_matrix(y_test, y_pred, labels=model.classes_)\n",
        "disp = ConfusionMatrixDisplay(confusion_matrix=cm, display_labels=model.classes_)\n",
        "disp.plot(cmap=\"Blues\")\n",
        "plt.show()\n"
      ],
      "metadata": {
        "colab": {
          "base_uri": "https://localhost:8080/",
          "height": 449
        },
        "id": "Nz-mcprR-h3O",
        "outputId": "84135073-11db-4e11-ff3d-280714e7b787"
      },
      "execution_count": 62,
      "outputs": [
        {
          "output_type": "display_data",
          "data": {
            "text/plain": [
              "<Figure size 640x480 with 2 Axes>"
            ],
            "image/png": "[encoded data removed]"
          },
          "metadata": {}
        }
      ]
    },
    {
      "cell_type": "code",
      "source": [
        "misclassified = X_test[y_test != y_pred][:10]\n",
        "\n",
        "\n",
        "for text, true, pred in zip(misclassified, y_test[y_test != y_pred][:10], y_pred[y_test != y_pred][:10]):\n",
        "    print(f\"Tweet: {text}\")\n",
        "    print(f\"True: {true}, Predicted: {pred}\")\n",
        "    print(\"-\"*50)\n"
      ],
      "metadata": {
        "colab": {
          "base_uri": "https://localhost:8080/"
        },
        "id": "5lsogz8Q-h5y",
        "outputId": "3bec0b8b-7dbf-48c3-ef2a-3bd650bb7bf5"
      },
      "execution_count": 63,
      "outputs": [
        {
          "output_type": "stream",
          "name": "stdout",
          "text": [
            "Tweet: handphone oh god\n",
            "True: 0, Predicted: 1\n",
            "--------------------------------------------------\n",
            "Tweet: day today bday starting <NUM> <NUM> conference call erm yea\n",
            "True: 0, Predicted: 1\n",
            "--------------------------------------------------\n",
            "Tweet: see directly behind halfway back section\n",
            "True: 1, Predicted: 0\n",
            "--------------------------------------------------\n",
            "Tweet: missing hamptons hug followed cameras cuz superstar\n",
            "True: 1, Predicted: 0\n",
            "--------------------------------------------------\n",
            "Tweet: dayum like able see going blind sex cut\n",
            "True: 1, Predicted: 0\n",
            "--------------------------------------------------\n",
            "Tweet: ca nt sleep weirdest nightmares life got lights said prayers guess not sleeping anytime soon\n",
            "True: 1, Predicted: 0\n",
            "--------------------------------------------------\n",
            "Tweet: interview front camera tomorrow good side\n",
            "True: 0, Predicted: 1\n",
            "--------------------------------------------------\n",
            "Tweet: downloaded tweetdeck know use confusing\n",
            "True: 0, Predicted: 1\n",
            "--------------------------------------------------\n",
            "Tweet: breaks heart house good idea time valued less bought stuck\n",
            "True: 0, Predicted: 1\n",
            "--------------------------------------------------\n",
            "Tweet: would great actually worked\n",
            "True: 0, Predicted: 1\n",
            "--------------------------------------------------\n"
          ]
        }
      ]
    },
    {
      "cell_type": "code",
      "source": [
        "import joblib\n",
        "\n",
        "\n",
        "final_pipeline = Pipeline([\n",
        "    ('tfidf', TfidfVectorizer()),\n",
        "    ('clf', LogisticRegression(max_iter=1000, random_state=42))\n",
        "])\n",
        "\n",
        "\n",
        "final_pipeline.fit(X_train, y_train)\n",
        "print(\"Test Accuracy:\", final_pipeline.score(X_test, y_test))\n",
        "\n",
        "joblib.dump(final_pipeline, \"sentiment_model.pkl\")\n",
        "print(\"Model saved as sentiment_model.pkl\")\n"
      ],
      "metadata": {
        "colab": {
          "base_uri": "https://localhost:8080/"
        },
        "id": "tOJUhBp9-h8e",
        "outputId": "8c10b477-fbd8-4e05-f133-d69350ae7720"
      },
      "execution_count": 65,
      "outputs": [
        {
          "output_type": "stream",
          "name": "stdout",
          "text": [
            "Test Accuracy: 0.7561526870919136\n",
            "Model saved as sentiment_model.pkl\n"
          ]
        }
      ]
    }
  ],
  "metadata": {
    "colab": {
      "provenance": [],
      "include_colab_link": true
    },
    "kernelspec": {
      "display_name": "Python 3",
      "name": "python3"
    },
    "language_info": {
      "name": "python"
    }
  },
  "nbformat": 4,
  "nbformat_minor": 0
}